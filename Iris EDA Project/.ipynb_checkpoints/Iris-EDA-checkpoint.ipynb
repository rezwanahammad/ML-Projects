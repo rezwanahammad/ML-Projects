{
 "cells": [
  {
   "cell_type": "markdown",
   "id": "f9e2225f-27b6-48ad-a6ad-6f910d651e84",
   "metadata": {},
   "source": [
    "# Iris EDA"
   ]
  },
  {
   "cell_type": "code",
   "execution_count": 3,
   "id": "8551f9ce-8b75-4a4a-b7e7-e60fe525b4f3",
   "metadata": {},
   "outputs": [],
   "source": [
    "import pandas as pd\n",
    "import numpy as np\n",
    "import matplotlib.pyplot as plt\n",
    "import seaborn as sns\n",
    "import math\n",
    "import scipy.stats as stats\n",
    "from sklearn.preprocessing import LabelEncoder , MinMaxScaler , QuantileTransformer , PowerTransformer\n",
    "from sklearn.model_selection import train_test_split\n",
    "from sklearn.linear_model import LogisticRegression\n",
    "from sklearn.neighbors import KNeighborsClassifier\n",
    "from sklearn.svm import SVC\n",
    "from sklearn.tree import DecisionTreeClassifier\n",
    "from sklearn.ensemble import RandomForestClassifier\n",
    "from sklearn.metrics import accuracy_score, precision_score, recall_score, f1_score , confusion_matrix"
   ]
  },
  {
   "cell_type": "code",
   "execution_count": 15,
   "id": "c494f41f-993d-4da2-ad0e-67cf2f9b405c",
   "metadata": {},
   "outputs": [
    {
     "data": {
      "text/html": [
       "<div>\n",
       "<style scoped>\n",
       "    .dataframe tbody tr th:only-of-type {\n",
       "        vertical-align: middle;\n",
       "    }\n",
       "\n",
       "    .dataframe tbody tr th {\n",
       "        vertical-align: top;\n",
       "    }\n",
       "\n",
       "    .dataframe thead th {\n",
       "        text-align: right;\n",
       "    }\n",
       "</style>\n",
       "<table border=\"1\" class=\"dataframe\">\n",
       "  <thead>\n",
       "    <tr style=\"text-align: right;\">\n",
       "      <th></th>\n",
       "      <th>Id</th>\n",
       "      <th>SepalLengthCm</th>\n",
       "      <th>SepalWidthCm</th>\n",
       "      <th>PetalLengthCm</th>\n",
       "      <th>PetalWidthCm</th>\n",
       "      <th>Species</th>\n",
       "    </tr>\n",
       "  </thead>\n",
       "  <tbody>\n",
       "    <tr>\n",
       "      <th>35</th>\n",
       "      <td>36</td>\n",
       "      <td>5.0</td>\n",
       "      <td>3.2</td>\n",
       "      <td>1.2</td>\n",
       "      <td>0.2</td>\n",
       "      <td>Iris-setosa</td>\n",
       "    </tr>\n",
       "    <tr>\n",
       "      <th>84</th>\n",
       "      <td>85</td>\n",
       "      <td>5.4</td>\n",
       "      <td>3.0</td>\n",
       "      <td>4.5</td>\n",
       "      <td>1.5</td>\n",
       "      <td>Iris-versicolor</td>\n",
       "    </tr>\n",
       "    <tr>\n",
       "      <th>27</th>\n",
       "      <td>28</td>\n",
       "      <td>5.2</td>\n",
       "      <td>3.5</td>\n",
       "      <td>1.5</td>\n",
       "      <td>0.2</td>\n",
       "      <td>Iris-setosa</td>\n",
       "    </tr>\n",
       "    <tr>\n",
       "      <th>33</th>\n",
       "      <td>34</td>\n",
       "      <td>5.5</td>\n",
       "      <td>4.2</td>\n",
       "      <td>1.4</td>\n",
       "      <td>0.2</td>\n",
       "      <td>Iris-setosa</td>\n",
       "    </tr>\n",
       "    <tr>\n",
       "      <th>130</th>\n",
       "      <td>131</td>\n",
       "      <td>7.4</td>\n",
       "      <td>2.8</td>\n",
       "      <td>6.1</td>\n",
       "      <td>1.9</td>\n",
       "      <td>Iris-virginica</td>\n",
       "    </tr>\n",
       "  </tbody>\n",
       "</table>\n",
       "</div>"
      ],
      "text/plain": [
       "      Id  SepalLengthCm  SepalWidthCm  PetalLengthCm  PetalWidthCm  \\\n",
       "35    36            5.0           3.2            1.2           0.2   \n",
       "84    85            5.4           3.0            4.5           1.5   \n",
       "27    28            5.2           3.5            1.5           0.2   \n",
       "33    34            5.5           4.2            1.4           0.2   \n",
       "130  131            7.4           2.8            6.1           1.9   \n",
       "\n",
       "             Species  \n",
       "35       Iris-setosa  \n",
       "84   Iris-versicolor  \n",
       "27       Iris-setosa  \n",
       "33       Iris-setosa  \n",
       "130   Iris-virginica  "
      ]
     },
     "execution_count": 15,
     "metadata": {},
     "output_type": "execute_result"
    }
   ],
   "source": [
    "df = pd.read_csv('Iris.csv')\n",
    "df.sample(5)\n",
    "# 5 Numerical Features and 1 Categorical feature"
   ]
  },
  {
   "cell_type": "code",
   "execution_count": 16,
   "id": "f1c67302-222d-47ab-8b81-6029dcdbb62a",
   "metadata": {},
   "outputs": [
    {
     "data": {
      "text/html": [
       "<div>\n",
       "<style scoped>\n",
       "    .dataframe tbody tr th:only-of-type {\n",
       "        vertical-align: middle;\n",
       "    }\n",
       "\n",
       "    .dataframe tbody tr th {\n",
       "        vertical-align: top;\n",
       "    }\n",
       "\n",
       "    .dataframe thead th {\n",
       "        text-align: right;\n",
       "    }\n",
       "</style>\n",
       "<table border=\"1\" class=\"dataframe\">\n",
       "  <thead>\n",
       "    <tr style=\"text-align: right;\">\n",
       "      <th></th>\n",
       "      <th>SepalLengthCm</th>\n",
       "      <th>SepalWidthCm</th>\n",
       "      <th>PetalLengthCm</th>\n",
       "      <th>PetalWidthCm</th>\n",
       "      <th>Species</th>\n",
       "    </tr>\n",
       "  </thead>\n",
       "  <tbody>\n",
       "    <tr>\n",
       "      <th>71</th>\n",
       "      <td>6.1</td>\n",
       "      <td>2.8</td>\n",
       "      <td>4.0</td>\n",
       "      <td>1.3</td>\n",
       "      <td>Iris-versicolor</td>\n",
       "    </tr>\n",
       "    <tr>\n",
       "      <th>52</th>\n",
       "      <td>6.9</td>\n",
       "      <td>3.1</td>\n",
       "      <td>4.9</td>\n",
       "      <td>1.5</td>\n",
       "      <td>Iris-versicolor</td>\n",
       "    </tr>\n",
       "    <tr>\n",
       "      <th>143</th>\n",
       "      <td>6.8</td>\n",
       "      <td>3.2</td>\n",
       "      <td>5.9</td>\n",
       "      <td>2.3</td>\n",
       "      <td>Iris-virginica</td>\n",
       "    </tr>\n",
       "    <tr>\n",
       "      <th>142</th>\n",
       "      <td>5.8</td>\n",
       "      <td>2.7</td>\n",
       "      <td>5.1</td>\n",
       "      <td>1.9</td>\n",
       "      <td>Iris-virginica</td>\n",
       "    </tr>\n",
       "    <tr>\n",
       "      <th>80</th>\n",
       "      <td>5.5</td>\n",
       "      <td>2.4</td>\n",
       "      <td>3.8</td>\n",
       "      <td>1.1</td>\n",
       "      <td>Iris-versicolor</td>\n",
       "    </tr>\n",
       "  </tbody>\n",
       "</table>\n",
       "</div>"
      ],
      "text/plain": [
       "     SepalLengthCm  SepalWidthCm  PetalLengthCm  PetalWidthCm          Species\n",
       "71             6.1           2.8            4.0           1.3  Iris-versicolor\n",
       "52             6.9           3.1            4.9           1.5  Iris-versicolor\n",
       "143            6.8           3.2            5.9           2.3   Iris-virginica\n",
       "142            5.8           2.7            5.1           1.9   Iris-virginica\n",
       "80             5.5           2.4            3.8           1.1  Iris-versicolor"
      ]
     },
     "execution_count": 16,
     "metadata": {},
     "output_type": "execute_result"
    }
   ],
   "source": [
    "df.drop(columns=['Id'],inplace=True)\n",
    "df.sample(5)"
   ]
  },
  {
   "cell_type": "code",
   "execution_count": 17,
   "id": "b0540715-5e4f-4377-911a-114150b5ec99",
   "metadata": {},
   "outputs": [
    {
     "data": {
      "text/plain": [
       "(150, 5)"
      ]
     },
     "execution_count": 17,
     "metadata": {},
     "output_type": "execute_result"
    }
   ],
   "source": [
    "df.shape # 150 Rows,5 Columns"
   ]
  },
  {
   "cell_type": "code",
   "execution_count": 18,
   "id": "0b91d842-f8aa-46a2-ba32-01f74c1b8171",
   "metadata": {},
   "outputs": [
    {
     "data": {
      "text/plain": [
       "SepalLengthCm    0\n",
       "SepalWidthCm     0\n",
       "PetalLengthCm    0\n",
       "PetalWidthCm     0\n",
       "Species          0\n",
       "dtype: int64"
      ]
     },
     "execution_count": 18,
     "metadata": {},
     "output_type": "execute_result"
    }
   ],
   "source": [
    "df.isnull().sum()\n",
    "# No Null values"
   ]
  },
  {
   "cell_type": "code",
   "execution_count": 19,
   "id": "53644288-4e8e-4b7e-9940-317047f0424a",
   "metadata": {},
   "outputs": [
    {
     "name": "stdout",
     "output_type": "stream",
     "text": [
      "<class 'pandas.core.frame.DataFrame'>\n",
      "RangeIndex: 150 entries, 0 to 149\n",
      "Data columns (total 5 columns):\n",
      " #   Column         Non-Null Count  Dtype  \n",
      "---  ------         --------------  -----  \n",
      " 0   SepalLengthCm  150 non-null    float64\n",
      " 1   SepalWidthCm   150 non-null    float64\n",
      " 2   PetalLengthCm  150 non-null    float64\n",
      " 3   PetalWidthCm   150 non-null    float64\n",
      " 4   Species        150 non-null    object \n",
      "dtypes: float64(4), object(1)\n",
      "memory usage: 6.0+ KB\n"
     ]
    }
   ],
   "source": [
    "df.info()"
   ]
  },
  {
   "cell_type": "code",
   "execution_count": 20,
   "id": "27bb6cdb-8fa2-44b6-a9f6-98d70494cb59",
   "metadata": {},
   "outputs": [
    {
     "data": {
      "text/html": [
       "<div>\n",
       "<style scoped>\n",
       "    .dataframe tbody tr th:only-of-type {\n",
       "        vertical-align: middle;\n",
       "    }\n",
       "\n",
       "    .dataframe tbody tr th {\n",
       "        vertical-align: top;\n",
       "    }\n",
       "\n",
       "    .dataframe thead th {\n",
       "        text-align: right;\n",
       "    }\n",
       "</style>\n",
       "<table border=\"1\" class=\"dataframe\">\n",
       "  <thead>\n",
       "    <tr style=\"text-align: right;\">\n",
       "      <th></th>\n",
       "      <th>SepalLengthCm</th>\n",
       "      <th>SepalWidthCm</th>\n",
       "      <th>PetalLengthCm</th>\n",
       "      <th>PetalWidthCm</th>\n",
       "    </tr>\n",
       "  </thead>\n",
       "  <tbody>\n",
       "    <tr>\n",
       "      <th>count</th>\n",
       "      <td>150.000000</td>\n",
       "      <td>150.000000</td>\n",
       "      <td>150.000000</td>\n",
       "      <td>150.000000</td>\n",
       "    </tr>\n",
       "    <tr>\n",
       "      <th>mean</th>\n",
       "      <td>5.843333</td>\n",
       "      <td>3.054000</td>\n",
       "      <td>3.758667</td>\n",
       "      <td>1.198667</td>\n",
       "    </tr>\n",
       "    <tr>\n",
       "      <th>std</th>\n",
       "      <td>0.828066</td>\n",
       "      <td>0.433594</td>\n",
       "      <td>1.764420</td>\n",
       "      <td>0.763161</td>\n",
       "    </tr>\n",
       "    <tr>\n",
       "      <th>min</th>\n",
       "      <td>4.300000</td>\n",
       "      <td>2.000000</td>\n",
       "      <td>1.000000</td>\n",
       "      <td>0.100000</td>\n",
       "    </tr>\n",
       "    <tr>\n",
       "      <th>25%</th>\n",
       "      <td>5.100000</td>\n",
       "      <td>2.800000</td>\n",
       "      <td>1.600000</td>\n",
       "      <td>0.300000</td>\n",
       "    </tr>\n",
       "    <tr>\n",
       "      <th>50%</th>\n",
       "      <td>5.800000</td>\n",
       "      <td>3.000000</td>\n",
       "      <td>4.350000</td>\n",
       "      <td>1.300000</td>\n",
       "    </tr>\n",
       "    <tr>\n",
       "      <th>75%</th>\n",
       "      <td>6.400000</td>\n",
       "      <td>3.300000</td>\n",
       "      <td>5.100000</td>\n",
       "      <td>1.800000</td>\n",
       "    </tr>\n",
       "    <tr>\n",
       "      <th>max</th>\n",
       "      <td>7.900000</td>\n",
       "      <td>4.400000</td>\n",
       "      <td>6.900000</td>\n",
       "      <td>2.500000</td>\n",
       "    </tr>\n",
       "  </tbody>\n",
       "</table>\n",
       "</div>"
      ],
      "text/plain": [
       "       SepalLengthCm  SepalWidthCm  PetalLengthCm  PetalWidthCm\n",
       "count     150.000000    150.000000     150.000000    150.000000\n",
       "mean        5.843333      3.054000       3.758667      1.198667\n",
       "std         0.828066      0.433594       1.764420      0.763161\n",
       "min         4.300000      2.000000       1.000000      0.100000\n",
       "25%         5.100000      2.800000       1.600000      0.300000\n",
       "50%         5.800000      3.000000       4.350000      1.300000\n",
       "75%         6.400000      3.300000       5.100000      1.800000\n",
       "max         7.900000      4.400000       6.900000      2.500000"
      ]
     },
     "execution_count": 20,
     "metadata": {},
     "output_type": "execute_result"
    }
   ],
   "source": [
    "df.describe()"
   ]
  },
  {
   "cell_type": "markdown",
   "id": "5f07c980-2533-4b70-a296-775d7c7b9b1a",
   "metadata": {},
   "source": [
    "## Univariate analysis"
   ]
  },
  {
   "cell_type": "code",
   "execution_count": 21,
   "id": "42ea7251-2f48-4fb1-9c03-4838ccd44ee0",
   "metadata": {},
   "outputs": [
    {
     "name": "stdout",
     "output_type": "stream",
     "text": [
      "Feature : SepalLengthCm\n",
      "Count : 150\n",
      "Median : 5.8\n",
      "Mean : 5.843333333333334\n",
      "Standard Deviation(std) : 0.828066127977863\n",
      "\n",
      "Feature : SepalWidthCm\n",
      "Count : 150\n",
      "Median : 3.0\n",
      "Mean : 3.0540000000000003\n",
      "Standard Deviation(std) : 0.4335943113621737\n",
      "\n",
      "Feature : PetalLengthCm\n",
      "Count : 150\n",
      "Median : 4.35\n",
      "Mean : 3.758666666666666\n",
      "Standard Deviation(std) : 1.7644204199522626\n",
      "\n",
      "Feature : PetalWidthCm\n",
      "Count : 150\n",
      "Median : 1.3\n",
      "Mean : 1.1986666666666668\n",
      "Standard Deviation(std) : 0.7631607417008411\n",
      "\n"
     ]
    }
   ],
   "source": [
    "def feature_stats(df):\n",
    "    numerics = df.select_dtypes(include=['float64','int64']).columns\n",
    "    for feature in numerics:\n",
    "        feature_data= df[feature]\n",
    "        feature_count=feature_data.count()\n",
    "        feature_mean=feature_data.mean()\n",
    "        feature_median=feature_data.median()\n",
    "        feature_std=feature_data.std()\n",
    "\n",
    "        print(f\"Feature : {feature}\")\n",
    "        print(f\"Count : {feature_count}\")\n",
    "        print(f\"Median : {feature_median}\")\n",
    "        print(f\"Mean : {feature_mean}\")\n",
    "        print(f\"Standard Deviation(std) : {feature_std}\")\n",
    "        print()\n",
    "feature_stats(df)"
   ]
  },
  {
   "cell_type": "markdown",
   "id": "ecefe140-e1ca-4b93-8cc9-d42e51b2cfd4",
   "metadata": {},
   "source": [
    "## Ploting boxplot to detect if there is any outlier"
   ]
  },
  {
   "cell_type": "code",
   "execution_count": 27,
   "id": "71320d7a-c408-4933-bba5-a09293cdc5b6",
   "metadata": {},
   "outputs": [
    {
     "data": {
      "image/png": "[encoded data removed]",
      "text/plain": [
       "<Figure size 1000x800 with 4 Axes>"
      ]
     },
     "metadata": {},
     "output_type": "display_data"
    }
   ],
   "source": [
    "fig, axes = plt.subplots(2, 2, figsize=(10, 8))\n",
    "\n",
    "plt.tight_layout(pad=4.0)\n",
    "\n",
    "sns.boxplot(y=df['SepalLengthCm'], ax=axes[0,0])\n",
    "axes[0,0].set_title('Sepal Length')\n",
    "\n",
    "sns.boxplot(y=df['SepalWidthCm'], ax=axes[0,1])\n",
    "axes[0,1].set_title('Sepal Width')\n",
    "\n",
    "sns.boxplot(y=df['PetalLengthCm'], ax=axes[1,0])\n",
    "axes[1,0].set_title('Petal Length')\n",
    "\n",
    "sns.boxplot(y=df['PetalWidthCm'], ax=axes[1,1])\n",
    "axes[1,1].set_title('Petal Width')\n",
    "\n",
    "plt.show()\n",
    "# Sepal Width has outliers"
   ]
  },
  {
   "cell_type": "markdown",
   "id": "b4ea2f89-4900-4758-aee7-a386086dbcad",
   "metadata": {},
   "source": [
    "## Applying IQR method to remove outliers from Sepal width"
   ]
  },
  {
   "cell_type": "code",
   "execution_count": 34,
   "id": "385cd6d6-2dd9-4d46-9865-3c6368c474ba",
   "metadata": {},
   "outputs": [
    {
     "name": "stdout",
     "output_type": "stream",
     "text": [
      "Original shape: (150, 5)\n",
      "Shape after removing outliers: (146, 5)\n"
     ]
    }
   ],
   "source": [
    "Q1 = df['SepalWidthCm'].quantile(0.25)\n",
    "Q3 = df['SepalWidthCm'].quantile(0.75)\n",
    "IQR = Q3 - Q1\n",
    "\n",
    "lower_bound = Q1 - 1.5 * IQR\n",
    "upper_bound = Q3 + 1.5 * IQR\n",
    "\n",
    "df_no_outliers = df[(df['SepalWidthCm'] >= lower_bound) & (df['SepalWidthCm'] <= upper_bound)]\n",
    "\n",
    "print(f\"Original shape: {df.shape}\")\n",
    "print(f\"Shape after removing outliers: {df_no_outliers.shape}\")\n"
   ]
  },
  {
   "cell_type": "code",
   "execution_count": 35,
   "id": "89813046-6f7e-45f3-b351-20642f119d6c",
   "metadata": {},
   "outputs": [
    {
     "data": {
      "text/plain": [
       "<Axes: ylabel='SepalWidthCm'>"
      ]
     },
     "execution_count": 35,
     "metadata": {},
     "output_type": "execute_result"
    },
    {
     "data": {
      "image/png": "[encoded data removed]",
      "text/plain": [
       "<Figure size 640x480 with 1 Axes>"
      ]
     },
     "metadata": {},
     "output_type": "display_data"
    }
   ],
   "source": [
    "sns.boxplot(y=df_no_outliers['SepalWidthCm'])\n",
    "# No outliers"
   ]
  },
  {
   "cell_type": "markdown",
   "id": "597cbdc4-0683-4250-89c0-273cdede0c09",
   "metadata": {},
   "source": [
    "## Count the species"
   ]
  },
  {
   "cell_type": "code",
   "execution_count": 37,
   "id": "13538c2b-8fc0-4dcb-a500-0049e2910c3b",
   "metadata": {},
   "outputs": [
    {
     "name": "stdout",
     "output_type": "stream",
     "text": [
      "Species\n",
      "Iris-setosa        50\n",
      "Iris-versicolor    50\n",
      "Iris-virginica     50\n",
      "Name: count, dtype: int64\n"
     ]
    }
   ],
   "source": [
    "print(df['Species'].value_counts())\n"
   ]
  },
  {
   "cell_type": "code",
   "execution_count": 39,
   "id": "680f49c5-f5e9-4b75-8409-fd6aa4f0f4fb",
   "metadata": {},
   "outputs": [
    {
     "data": {
      "image/png": "[encoded data removed]",
      "text/plain": [
       "<Figure size 640x480 with 1 Axes>"
      ]
     },
     "metadata": {},
     "output_type": "display_data"
    }
   ],
   "source": [
    "sns.countplot(x='Species', data=df)\n",
    "plt.title('Count of Each Species')\n",
    "plt.show()\n",
    "# All are equal distributed"
   ]
  },
  {
   "cell_type": "markdown",
   "id": "2b881d5e-20ca-42cd-acaf-c6764ef414f5",
   "metadata": {},
   "source": [
    "## Bivariate Analysis"
   ]
  },
  {
   "cell_type": "code",
   "execution_count": 41,
   "id": "817b5ff2-5a5d-4ea2-a21a-4a691f5cd6b4",
   "metadata": {},
   "outputs": [
    {
     "data": {
      "image/png": "[encoded data removed]",
      "text/plain": [
       "<Figure size 800x500 with 1 Axes>"
      ]
     },
     "metadata": {},
     "output_type": "display_data"
    }
   ],
   "source": [
    "plt.figure(figsize=(8,5))\n",
    "sns.boxplot(x='Species', y='SepalLengthCm', data=df)\n",
    "plt.title('Sepal Length vs Species')\n",
    "plt.xlabel('Species')\n",
    "plt.ylabel('Sepal Length (cm)')\n",
    "plt.show()\n",
    "# Iris-virginica has the highest SepalLength comparing to other two species"
   ]
  },
  {
   "cell_type": "code",
   "execution_count": 46,
   "id": "a95bbb26-5334-45ce-94e1-29d2c7bafeba",
   "metadata": {},
   "outputs": [
    {
     "data": {
      "image/png": "[encoded data removed]",
      "text/plain": [
       "<Figure size 800x500 with 1 Axes>"
      ]
     },
     "metadata": {},
     "output_type": "display_data"
    }
   ],
   "source": [
    "plt.figure(figsize=(8,5))\n",
    "sns.boxplot(x='Species', y='SepalWidthCm', data=df)\n",
    "plt.title('Sepal Width vs Species')\n",
    "plt.xlabel('Species')\n",
    "plt.ylabel('Sepal Width (cm)')\n",
    "plt.show()\n",
    "# Iris-setosa has more sepal width than comparing to other two species"
   ]
  },
  {
   "cell_type": "code",
   "execution_count": 44,
   "id": "7a5122ce-fe81-4c29-99d9-7851c602c2fe",
   "metadata": {},
   "outputs": [
    {
     "data": {
      "image/png": "[encoded data removed]",
      "text/plain": [
       "<Figure size 800x500 with 1 Axes>"
      ]
     },
     "metadata": {},
     "output_type": "display_data"
    }
   ],
   "source": [
    "plt.figure(figsize=(8,5))\n",
    "sns.boxplot(x='Species', y='PetalLengthCm', data=df)\n",
    "plt.title('Petal Length vs Species')\n",
    "plt.xlabel('Species')\n",
    "plt.ylabel('Petal Length (cm)')\n",
    "plt.show()\n",
    "# Iris-virginica has higher petal length"
   ]
  },
  {
   "cell_type": "code",
   "execution_count": 45,
   "id": "c88fa863-e44a-44f4-a621-d82e3ae7e594",
   "metadata": {},
   "outputs": [
    {
     "data": {
      "image/png": "[encoded data removed]",
      "text/plain": [
       "<Figure size 800x500 with 1 Axes>"
      ]
     },
     "metadata": {},
     "output_type": "display_data"
    }
   ],
   "source": [
    "plt.figure(figsize=(8,5))\n",
    "sns.boxplot(x='Species', y='PetalWidthCm', data=df)\n",
    "plt.title('Petal Width vs Species')\n",
    "plt.xlabel('Species')\n",
    "plt.ylabel('Petal Width (cm)')\n",
    "plt.show()\n",
    "# Iris-virginica has more petal width than other two species"
   ]
  },
  {
   "cell_type": "markdown",
   "id": "0ba63621-68d7-4eec-885e-2a4ea161d3fb",
   "metadata": {},
   "source": [
    "### Final Observation from Bi-Variate Analysis:"
   ]
  },
  {
   "cell_type": "raw",
   "id": "85d47a3b-205f-46b2-8adf-c171570f7b92",
   "metadata": {},
   "source": [
    "Analysis of feature distributions across species shows that petal length and width are highly discriminative features, with Iris-setosa having significantly smaller petal dimensions than the other two species. Sepal length and width also vary across species, with setosa generally having wider sepals and virginica having the longest sepals"
   ]
  },
  {
   "cell_type": "markdown",
   "id": "e9faec1c-a5c0-4c0c-b439-cbe61f89fc15",
   "metadata": {},
   "source": [
    "## Applying LOGISTIC REGRESSSION model"
   ]
  },
  {
   "cell_type": "code",
   "execution_count": 47,
   "id": "c1629e7a-469a-4510-b422-cb92a7ccf095",
   "metadata": {},
   "outputs": [],
   "source": [
    "le = LabelEncoder()\n",
    "df['Species_encoded']=le.fit_transform(df['Species'])"
   ]
  },
  {
   "cell_type": "code",
   "execution_count": 49,
   "id": "8ac46c2e-ecc0-4dd0-852a-9c50df271f6a",
   "metadata": {},
   "outputs": [
    {
     "data": {
      "text/html": [
       "<div>\n",
       "<style scoped>\n",
       "    .dataframe tbody tr th:only-of-type {\n",
       "        vertical-align: middle;\n",
       "    }\n",
       "\n",
       "    .dataframe tbody tr th {\n",
       "        vertical-align: top;\n",
       "    }\n",
       "\n",
       "    .dataframe thead th {\n",
       "        text-align: right;\n",
       "    }\n",
       "</style>\n",
       "<table border=\"1\" class=\"dataframe\">\n",
       "  <thead>\n",
       "    <tr style=\"text-align: right;\">\n",
       "      <th></th>\n",
       "      <th>SepalLengthCm</th>\n",
       "      <th>SepalWidthCm</th>\n",
       "      <th>PetalLengthCm</th>\n",
       "      <th>PetalWidthCm</th>\n",
       "      <th>Species</th>\n",
       "      <th>Species_encoded</th>\n",
       "    </tr>\n",
       "  </thead>\n",
       "  <tbody>\n",
       "    <tr>\n",
       "      <th>125</th>\n",
       "      <td>7.2</td>\n",
       "      <td>3.2</td>\n",
       "      <td>6.0</td>\n",
       "      <td>1.8</td>\n",
       "      <td>Iris-virginica</td>\n",
       "      <td>2</td>\n",
       "    </tr>\n",
       "    <tr>\n",
       "      <th>115</th>\n",
       "      <td>6.4</td>\n",
       "      <td>3.2</td>\n",
       "      <td>5.3</td>\n",
       "      <td>2.3</td>\n",
       "      <td>Iris-virginica</td>\n",
       "      <td>2</td>\n",
       "    </tr>\n",
       "    <tr>\n",
       "      <th>29</th>\n",
       "      <td>4.7</td>\n",
       "      <td>3.2</td>\n",
       "      <td>1.6</td>\n",
       "      <td>0.2</td>\n",
       "      <td>Iris-setosa</td>\n",
       "      <td>0</td>\n",
       "    </tr>\n",
       "    <tr>\n",
       "      <th>9</th>\n",
       "      <td>4.9</td>\n",
       "      <td>3.1</td>\n",
       "      <td>1.5</td>\n",
       "      <td>0.1</td>\n",
       "      <td>Iris-setosa</td>\n",
       "      <td>0</td>\n",
       "    </tr>\n",
       "    <tr>\n",
       "      <th>124</th>\n",
       "      <td>6.7</td>\n",
       "      <td>3.3</td>\n",
       "      <td>5.7</td>\n",
       "      <td>2.1</td>\n",
       "      <td>Iris-virginica</td>\n",
       "      <td>2</td>\n",
       "    </tr>\n",
       "  </tbody>\n",
       "</table>\n",
       "</div>"
      ],
      "text/plain": [
       "     SepalLengthCm  SepalWidthCm  PetalLengthCm  PetalWidthCm         Species  \\\n",
       "125            7.2           3.2            6.0           1.8  Iris-virginica   \n",
       "115            6.4           3.2            5.3           2.3  Iris-virginica   \n",
       "29             4.7           3.2            1.6           0.2     Iris-setosa   \n",
       "9              4.9           3.1            1.5           0.1     Iris-setosa   \n",
       "124            6.7           3.3            5.7           2.1  Iris-virginica   \n",
       "\n",
       "     Species_encoded  \n",
       "125                2  \n",
       "115                2  \n",
       "29                 0  \n",
       "9                  0  \n",
       "124                2  "
      ]
     },
     "execution_count": 49,
     "metadata": {},
     "output_type": "execute_result"
    }
   ],
   "source": [
    "df.sample(5)"
   ]
  },
  {
   "cell_type": "code",
   "execution_count": 50,
   "id": "efa9393b-e900-4038-9e1d-3a57e8bb0ab8",
   "metadata": {},
   "outputs": [],
   "source": [
    "X=df.drop(['Species','Species_encoded'],axis=1)\n",
    "y=df['Species_encoded']"
   ]
  },
  {
   "cell_type": "code",
   "execution_count": 51,
   "id": "b67837fb-81f0-42c3-a777-f7a703612f2f",
   "metadata": {},
   "outputs": [],
   "source": [
    "X_train, X_test, y_train, y_test = train_test_split(X, y, test_size=0.2, random_state=42)"
   ]
  },
  {
   "cell_type": "code",
   "execution_count": 55,
   "id": "255d4c9a-4c06-448f-8984-275406d83736",
   "metadata": {},
   "outputs": [
    {
     "name": "stdout",
     "output_type": "stream",
     "text": [
      "Accuracy of Logistic Regression:  100.0\n",
      "Confusion Matrix : \n",
      " [[10  0  0]\n",
      " [ 0  9  0]\n",
      " [ 0  0 11]]\n"
     ]
    }
   ],
   "source": [
    "lr = LogisticRegression(max_iter=300)\n",
    "lr.fit(X_train,y_train)\n",
    "y_pred = lr.predict(X_test)\n",
    "\n",
    "print(\"Accuracy of Logistic Regression: \",accuracy_score(y_test,y_pred)*100)\n",
    "print(\"Confusion Matrix : \\n\",confusion_matrix(y_test,y_pred))"
   ]
  },
  {
   "cell_type": "markdown",
   "id": "d4e6b8a1-1a8c-49f7-9a7b-fdca293f7296",
   "metadata": {},
   "source": [
    "## Applying KNN Model"
   ]
  },
  {
   "cell_type": "code",
   "execution_count": 57,
   "id": "988d1b0a-bf93-487a-b5e4-11884464b35f",
   "metadata": {},
   "outputs": [
    {
     "name": "stdout",
     "output_type": "stream",
     "text": [
      "Accuracy of KNN Model:  100.0\n",
      "Confusion Matrix : \n",
      " [[10  0  0]\n",
      " [ 0  9  0]\n",
      " [ 0  0 11]]\n"
     ]
    }
   ],
   "source": [
    "knn = KNeighborsClassifier(n_neighbors=5)\n",
    "knn.fit(X_train,y_train)\n",
    "y_pred_knn = lr.predict(X_test)\n",
    "\n",
    "print(\"Accuracy of KNN Model: \",accuracy_score(y_test,y_pred_knn)*100)\n",
    "print(\"Confusion Matrix : \\n\",confusion_matrix(y_test,y_pred_knn))"
   ]
  },
  {
   "cell_type": "markdown",
   "id": "4db853df-de62-41de-af86-8345b3c88af2",
   "metadata": {},
   "source": [
    "### Final observation from models:"
   ]
  },
  {
   "cell_type": "raw",
   "id": "9bac20f2-31c3-4386-99d6-11e9f81b7371",
   "metadata": {},
   "source": [
    "Both Logistic Regression and KNN achieved 100% accuracy on the Iris dataset test set. This is expected due to the clear class separability, particularly in petal features. "
   ]
  }
 ],
 "metadata": {
  "kernelspec": {
   "display_name": "Python 3 (ipykernel)",
   "language": "python",
   "name": "python3"
  },
  "language_info": {
   "codemirror_mode": {
    "name": "ipython",
    "version": 3
   },
   "file_extension": ".py",
   "mimetype": "text/x-python",
   "name": "python",
   "nbconvert_exporter": "python",
   "pygments_lexer": "ipython3",
   "version": "3.13.1"
  }
 },
 "nbformat": 4,
 "nbformat_minor": 5
}
